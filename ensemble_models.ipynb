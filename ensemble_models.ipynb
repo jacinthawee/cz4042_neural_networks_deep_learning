{
  "nbformat": 4,
  "nbformat_minor": 0,
  "metadata": {
    "colab": {
      "provenance": [],
      "collapsed_sections": []
    },
    "kernelspec": {
      "name": "python3",
      "display_name": "Python 3"
    },
    "language_info": {
      "name": "python"
    }
  },
  "cells": [
    {
      "cell_type": "markdown",
      "source": [
        "### Ensemble model on Xception, InceptionV3, and VGG19"
      ],
      "metadata": {
        "id": "RBpJY0fpKbuB"
      }
    },
    {
      "cell_type": "code",
      "execution_count": 1,
      "metadata": {
        "colab": {
          "base_uri": "https://localhost:8080/"
        },
        "id": "r_tvLuYYxjwN",
        "outputId": "8ee5fa51-b6b3-4159-cd3b-b057f65e6a8a"
      },
      "outputs": [
        {
          "output_type": "stream",
          "name": "stdout",
          "text": [
            "Looking in indexes: https://pypi.org/simple, https://us-python.pkg.dev/colab-wheels/public/simple/\n",
            "Requirement already satisfied: tensorflow in /usr/local/lib/python3.7/dist-packages (2.9.2)\n",
            "Requirement already satisfied: typing-extensions>=3.6.6 in /usr/local/lib/python3.7/dist-packages (from tensorflow) (4.1.1)\n",
            "Requirement already satisfied: tensorflow-io-gcs-filesystem>=0.23.1 in /usr/local/lib/python3.7/dist-packages (from tensorflow) (0.27.0)\n",
            "Requirement already satisfied: protobuf<3.20,>=3.9.2 in /usr/local/lib/python3.7/dist-packages (from tensorflow) (3.19.6)\n",
            "Requirement already satisfied: gast<=0.4.0,>=0.2.1 in /usr/local/lib/python3.7/dist-packages (from tensorflow) (0.4.0)\n",
            "Requirement already satisfied: astunparse>=1.6.0 in /usr/local/lib/python3.7/dist-packages (from tensorflow) (1.6.3)\n",
            "Requirement already satisfied: numpy>=1.20 in /usr/local/lib/python3.7/dist-packages (from tensorflow) (1.21.6)\n",
            "Requirement already satisfied: setuptools in /usr/local/lib/python3.7/dist-packages (from tensorflow) (57.4.0)\n",
            "Requirement already satisfied: six>=1.12.0 in /usr/local/lib/python3.7/dist-packages (from tensorflow) (1.15.0)\n",
            "Requirement already satisfied: libclang>=13.0.0 in /usr/local/lib/python3.7/dist-packages (from tensorflow) (14.0.6)\n",
            "Requirement already satisfied: flatbuffers<2,>=1.12 in /usr/local/lib/python3.7/dist-packages (from tensorflow) (1.12)\n",
            "Requirement already satisfied: tensorflow-estimator<2.10.0,>=2.9.0rc0 in /usr/local/lib/python3.7/dist-packages (from tensorflow) (2.9.0)\n",
            "Requirement already satisfied: h5py>=2.9.0 in /usr/local/lib/python3.7/dist-packages (from tensorflow) (3.1.0)\n",
            "Requirement already satisfied: keras-preprocessing>=1.1.1 in /usr/local/lib/python3.7/dist-packages (from tensorflow) (1.1.2)\n",
            "Requirement already satisfied: google-pasta>=0.1.1 in /usr/local/lib/python3.7/dist-packages (from tensorflow) (0.2.0)\n",
            "Requirement already satisfied: opt-einsum>=2.3.2 in /usr/local/lib/python3.7/dist-packages (from tensorflow) (3.3.0)\n",
            "Requirement already satisfied: packaging in /usr/local/lib/python3.7/dist-packages (from tensorflow) (21.3)\n",
            "Requirement already satisfied: keras<2.10.0,>=2.9.0rc0 in /usr/local/lib/python3.7/dist-packages (from tensorflow) (2.9.0)\n",
            "Requirement already satisfied: wrapt>=1.11.0 in /usr/local/lib/python3.7/dist-packages (from tensorflow) (1.14.1)\n",
            "Requirement already satisfied: absl-py>=1.0.0 in /usr/local/lib/python3.7/dist-packages (from tensorflow) (1.3.0)\n",
            "Requirement already satisfied: tensorboard<2.10,>=2.9 in /usr/local/lib/python3.7/dist-packages (from tensorflow) (2.9.1)\n",
            "Requirement already satisfied: termcolor>=1.1.0 in /usr/local/lib/python3.7/dist-packages (from tensorflow) (2.1.0)\n",
            "Requirement already satisfied: grpcio<2.0,>=1.24.3 in /usr/local/lib/python3.7/dist-packages (from tensorflow) (1.50.0)\n",
            "Requirement already satisfied: wheel<1.0,>=0.23.0 in /usr/local/lib/python3.7/dist-packages (from astunparse>=1.6.0->tensorflow) (0.38.3)\n",
            "Requirement already satisfied: cached-property in /usr/local/lib/python3.7/dist-packages (from h5py>=2.9.0->tensorflow) (1.5.2)\n",
            "Requirement already satisfied: werkzeug>=1.0.1 in /usr/local/lib/python3.7/dist-packages (from tensorboard<2.10,>=2.9->tensorflow) (1.0.1)\n",
            "Requirement already satisfied: markdown>=2.6.8 in /usr/local/lib/python3.7/dist-packages (from tensorboard<2.10,>=2.9->tensorflow) (3.4.1)\n",
            "Requirement already satisfied: tensorboard-plugin-wit>=1.6.0 in /usr/local/lib/python3.7/dist-packages (from tensorboard<2.10,>=2.9->tensorflow) (1.8.1)\n",
            "Requirement already satisfied: google-auth<3,>=1.6.3 in /usr/local/lib/python3.7/dist-packages (from tensorboard<2.10,>=2.9->tensorflow) (2.14.1)\n",
            "Requirement already satisfied: tensorboard-data-server<0.7.0,>=0.6.0 in /usr/local/lib/python3.7/dist-packages (from tensorboard<2.10,>=2.9->tensorflow) (0.6.1)\n",
            "Requirement already satisfied: google-auth-oauthlib<0.5,>=0.4.1 in /usr/local/lib/python3.7/dist-packages (from tensorboard<2.10,>=2.9->tensorflow) (0.4.6)\n",
            "Requirement already satisfied: requests<3,>=2.21.0 in /usr/local/lib/python3.7/dist-packages (from tensorboard<2.10,>=2.9->tensorflow) (2.23.0)\n",
            "Requirement already satisfied: pyasn1-modules>=0.2.1 in /usr/local/lib/python3.7/dist-packages (from google-auth<3,>=1.6.3->tensorboard<2.10,>=2.9->tensorflow) (0.2.8)\n",
            "Requirement already satisfied: rsa<5,>=3.1.4 in /usr/local/lib/python3.7/dist-packages (from google-auth<3,>=1.6.3->tensorboard<2.10,>=2.9->tensorflow) (4.9)\n",
            "Requirement already satisfied: cachetools<6.0,>=2.0.0 in /usr/local/lib/python3.7/dist-packages (from google-auth<3,>=1.6.3->tensorboard<2.10,>=2.9->tensorflow) (5.2.0)\n",
            "Requirement already satisfied: requests-oauthlib>=0.7.0 in /usr/local/lib/python3.7/dist-packages (from google-auth-oauthlib<0.5,>=0.4.1->tensorboard<2.10,>=2.9->tensorflow) (1.3.1)\n",
            "Requirement already satisfied: importlib-metadata>=4.4 in /usr/local/lib/python3.7/dist-packages (from markdown>=2.6.8->tensorboard<2.10,>=2.9->tensorflow) (4.13.0)\n",
            "Requirement already satisfied: zipp>=0.5 in /usr/local/lib/python3.7/dist-packages (from importlib-metadata>=4.4->markdown>=2.6.8->tensorboard<2.10,>=2.9->tensorflow) (3.10.0)\n",
            "Requirement already satisfied: pyasn1<0.5.0,>=0.4.6 in /usr/local/lib/python3.7/dist-packages (from pyasn1-modules>=0.2.1->google-auth<3,>=1.6.3->tensorboard<2.10,>=2.9->tensorflow) (0.4.8)\n",
            "Requirement already satisfied: certifi>=2017.4.17 in /usr/local/lib/python3.7/dist-packages (from requests<3,>=2.21.0->tensorboard<2.10,>=2.9->tensorflow) (2022.9.24)\n",
            "Requirement already satisfied: idna<3,>=2.5 in /usr/local/lib/python3.7/dist-packages (from requests<3,>=2.21.0->tensorboard<2.10,>=2.9->tensorflow) (2.10)\n",
            "Requirement already satisfied: chardet<4,>=3.0.2 in /usr/local/lib/python3.7/dist-packages (from requests<3,>=2.21.0->tensorboard<2.10,>=2.9->tensorflow) (3.0.4)\n",
            "Requirement already satisfied: urllib3!=1.25.0,!=1.25.1,<1.26,>=1.21.1 in /usr/local/lib/python3.7/dist-packages (from requests<3,>=2.21.0->tensorboard<2.10,>=2.9->tensorflow) (1.24.3)\n",
            "Requirement already satisfied: oauthlib>=3.0.0 in /usr/local/lib/python3.7/dist-packages (from requests-oauthlib>=0.7.0->google-auth-oauthlib<0.5,>=0.4.1->tensorboard<2.10,>=2.9->tensorflow) (3.2.2)\n",
            "Requirement already satisfied: pyparsing!=3.0.5,>=2.0.2 in /usr/local/lib/python3.7/dist-packages (from packaging->tensorflow) (3.0.9)\n"
          ]
        }
      ],
      "source": [
        "! pip install tensorflow"
      ]
    },
    {
      "cell_type": "code",
      "source": [
        "import tensorflow.keras\n",
        "import tensorflow as tf\n",
        "from tensorflow.keras.models import load_model\n",
        "path_to_models = \"/content/drive/My Drive/data/FMD/saved_models/\""
      ],
      "metadata": {
        "id": "TRUleVOQz2LL"
      },
      "execution_count": 2,
      "outputs": []
    },
    {
      "cell_type": "code",
      "source": [
        "# Load the Drive helper and mount\n",
        "from google.colab import drive\n",
        "\n",
        "# This will prompt for authorization.\n",
        "drive.mount('/content/drive/')"
      ],
      "metadata": {
        "colab": {
          "base_uri": "https://localhost:8080/"
        },
        "id": "VqBqjlBkz8uC",
        "outputId": "73400a7a-2774-4e22-a1f1-b3e15f506e0e"
      },
      "execution_count": 3,
      "outputs": [
        {
          "output_type": "stream",
          "name": "stdout",
          "text": [
            "Drive already mounted at /content/drive/; to attempt to forcibly remount, call drive.mount(\"/content/drive/\", force_remount=True).\n"
          ]
        }
      ]
    },
    {
      "cell_type": "code",
      "source": [
        "# get test dataset\n",
        "materials = ['fabric','foliage','glass','leather','metal','paper','plastic','stone','water','wood']\n",
        "IMG_SIZE = (224, 224)\n",
        "path_to_test = \"/content/drive/My Drive/data/FMD/test\"\n",
        "test_dataset = tf.keras.utils.image_dataset_from_directory(\n",
        "    directory=path_to_test,\n",
        "    labels='inferred',\n",
        "    label_mode='categorical',\n",
        "    class_names=materials,\n",
        "    batch_size=4,\n",
        "    image_size=IMG_SIZE,\n",
        "    shuffle=False,\n",
        "    seed=42,\n",
        "    validation_split=None\n",
        ")\n",
        "AUTOTUNE = tf.data.AUTOTUNE\n",
        "test_dataset = test_dataset.prefetch(buffer_size=AUTOTUNE)"
      ],
      "metadata": {
        "colab": {
          "base_uri": "https://localhost:8080/"
        },
        "id": "08eBWg0Y1yBJ",
        "outputId": "43569603-353f-4bcb-dac8-e85873b21e63"
      },
      "execution_count": 4,
      "outputs": [
        {
          "output_type": "stream",
          "name": "stdout",
          "text": [
            "Found 30 files belonging to 10 classes.\n"
          ]
        }
      ]
    },
    {
      "cell_type": "code",
      "source": [
        "# function to multiply each model output with their corresponding weight \n",
        "def mul_weight(inputs, combo):\n",
        "  w1 = w2 = w3 = 0.0\n",
        "  if combo == 'combo1':\n",
        "    w1 = 0.8\n",
        "    w2 = 0.1\n",
        "    w3 = 0.1\n",
        "  elif combo == 'combo2':\n",
        "    w1 = 0.7\n",
        "    w2 = 0.2\n",
        "    w3 = 0.1\n",
        "  elif combo == 'combo3':\n",
        "    w1 = 0.6\n",
        "    w2 = 0.2\n",
        "    w3 = 0.2\n",
        "  elif combo == 'combo4':\n",
        "    w1 = 0.5\n",
        "    w2 = 0.3\n",
        "    w3 - 0.2\n",
        "  else: # default non-weighted average\n",
        "    w1 = 1/3\n",
        "    w2 = 1/3\n",
        "    w3 = 1/3\n",
        "  return tf.keras.layers.Lambda(lambda x: x*w1)(inputs[0]), tf.keras.layers.Lambda(lambda x: x*w2)(inputs[1]), tf.keras.layers.Lambda(lambda x: x*w3)(inputs[2])\n",
        "    "
      ],
      "metadata": {
        "id": "hhH47PyscBJJ"
      },
      "execution_count": 22,
      "outputs": []
    },
    {
      "cell_type": "code",
      "source": [
        "# load the top 3 saved best models\n",
        "model1 = load_model(path_to_models+\"xception_sgd/best_xception_sgd_hypertune_gan.h5\")\n",
        "model1._name = 'xception'\n",
        "model2 = load_model(path_to_models+\"inception_sgd/best_inception_sgd_hypertune.h5\")\n",
        "model2._name = 'inceptionv3'\n",
        "model3 = load_model(path_to_models+\"hyperparameter_adam.h5\")\n",
        "model3._name = 'vgg19'\n",
        "model_input = tf.keras.Input(shape=(224, 224, 3))"
      ],
      "metadata": {
        "id": "N5F0OFinHc3W"
      },
      "execution_count": 6,
      "outputs": []
    },
    {
      "cell_type": "code",
      "source": [
        "# function to create an ensemble model per combination of weights (5 in total)\n",
        "def create_ensemble(combo):\n",
        "  output1 = model1(model_input)\n",
        "  output2 = model2(model_input)\n",
        "  output3 = model3(model_input)\n",
        "  outputs = [output1, output2, output3]\n",
        "  output1, output2, output3 = mul_weight(outputs, combo) # multiply each model output with corresponding weights\n",
        "  ensemble_output = tf.keras.layers.Average()([output1, output2, output3]) # and get the weighted average \n",
        "  ensemble_model = tf.keras.Model(inputs=model_input, outputs=ensemble_output) # created ensemble model\n",
        "  ensemble_model._name = 'ensemble'\n",
        "  ensemble_model.compile(\n",
        "          optimizer=tf.keras.optimizers.SGD(learning_rate=0.001),\n",
        "          loss=tf.keras.losses.CategoricalCrossentropy(from_logits=True),\n",
        "          metrics=['accuracy']\n",
        "      )\n",
        "  return ensemble_model"
      ],
      "metadata": {
        "id": "2bbvxSsaHSy2"
      },
      "execution_count": 26,
      "outputs": []
    },
    {
      "cell_type": "code",
      "source": [
        "# combo1: Xception: 0.8, InceptionV3: 0.1, VGG19: 0.1\n",
        "ensemble_combo1 = create_ensemble('combo1')\n",
        "eval_result1 = ensemble_combo1.evaluate(test_dataset)\n",
        "print(\"[test loss, test accuracy]:\", eval_result1)"
      ],
      "metadata": {
        "colab": {
          "base_uri": "https://localhost:8080/"
        },
        "id": "0X5-cB1SIztK",
        "outputId": "704532bd-a94a-47f9-ac1a-689ce712265c"
      },
      "execution_count": 27,
      "outputs": [
        {
          "output_type": "stream",
          "name": "stdout",
          "text": [
            "8/8 [==============================] - 42s 4s/step - loss: 0.9277 - accuracy: 0.9000\n",
            "[test loss, test accuracy]: [0.9277334809303284, 0.8999999761581421]\n"
          ]
        }
      ]
    },
    {
      "cell_type": "code",
      "source": [
        "# combo2: Xception: 0.7, InceptionV3: 0.2, VGG19: 0.1\n",
        "ensemble_combo2 = create_ensemble('combo2')\n",
        "eval_result2 = ensemble_combo2.evaluate(test_dataset)\n",
        "print(\"[test loss, test accuracy]:\", eval_result2)"
      ],
      "metadata": {
        "colab": {
          "base_uri": "https://localhost:8080/"
        },
        "id": "GSMIt8z9JG7s",
        "outputId": "db3fa385-313b-4c19-f7c4-19eb3cf1b707"
      },
      "execution_count": 28,
      "outputs": [
        {
          "output_type": "stream",
          "name": "stdout",
          "text": [
            "8/8 [==============================] - 38s 4s/step - loss: 0.9434 - accuracy: 0.9000\n",
            "[test loss, test accuracy]: [0.9433820247650146, 0.8999999761581421]\n"
          ]
        }
      ]
    },
    {
      "cell_type": "code",
      "source": [
        "# combo3: Xception: 0.6, InceptionV3: 0.2, VGG19: 0.2\n",
        "ensemble_combo3 = create_ensemble('combo3')\n",
        "eval_result3 = ensemble_combo3.evaluate(test_dataset)\n",
        "print(\"[test loss, test accuracy]:\", eval_result3)"
      ],
      "metadata": {
        "colab": {
          "base_uri": "https://localhost:8080/"
        },
        "id": "Q7nxCWCUJMG1",
        "outputId": "dfbe98f9-e0ed-42dd-8ad0-6711169d5c63"
      },
      "execution_count": 29,
      "outputs": [
        {
          "output_type": "stream",
          "name": "stdout",
          "text": [
            "8/8 [==============================] - 39s 4s/step - loss: 1.0186 - accuracy: 0.9000\n",
            "[test loss, test accuracy]: [1.018591284751892, 0.8999999761581421]\n"
          ]
        }
      ]
    },
    {
      "cell_type": "code",
      "source": [
        "# combo4: Xception: 0.5, InceptionV3: 0.3, VGG19: 0.2\n",
        "ensemble_combo4 = create_ensemble('combo4')\n",
        "eval_result4 = ensemble_combo4.evaluate(test_dataset)\n",
        "print(\"[test loss, test accuracy]:\", eval_result4)"
      ],
      "metadata": {
        "colab": {
          "base_uri": "https://localhost:8080/"
        },
        "id": "RXGD6OgTJWZn",
        "outputId": "01ed8cfc-6184-494c-b021-86d133bf9b9f"
      },
      "execution_count": 30,
      "outputs": [
        {
          "output_type": "stream",
          "name": "stdout",
          "text": [
            "8/8 [==============================] - 38s 4s/step - loss: 1.0649 - accuracy: 0.9000\n",
            "[test loss, test accuracy]: [1.0648503303527832, 0.8999999761581421]\n"
          ]
        }
      ]
    },
    {
      "cell_type": "code",
      "source": [
        "# default: Xception: 1/3, InceptionV3: 1/3, VGG19: 1/3, unweighted average\n",
        "ensemble_default = create_ensemble('default')\n",
        "eval_result_default = ensemble_default.evaluate(test_dataset)\n",
        "print(\"[test loss, test accuracy]:\", eval_result_default)"
      ],
      "metadata": {
        "colab": {
          "base_uri": "https://localhost:8080/"
        },
        "id": "YqSbt4UCJcC8",
        "outputId": "78122abd-5f56-46f3-e2f3-4ffb74694602"
      },
      "execution_count": 31,
      "outputs": [
        {
          "output_type": "stream",
          "name": "stdout",
          "text": [
            "8/8 [==============================] - 38s 4s/step - loss: 1.1832 - accuracy: 0.8667\n",
            "[test loss, test accuracy]: [1.183154821395874, 0.8666666746139526]\n"
          ]
        }
      ]
    },
    {
      "cell_type": "code",
      "source": [
        "ensemble_combo1.save(path_to_models+\"best_ensemble.h5\") # best ensemble model is ensemble_combo1 according to test loss and accuracy"
      ],
      "metadata": {
        "id": "OrIJ9YGuKTk9"
      },
      "execution_count": 32,
      "outputs": []
    },
    {
      "cell_type": "code",
      "source": [],
      "metadata": {
        "id": "Zq5-Moz_2YLc"
      },
      "execution_count": null,
      "outputs": []
    }
  ]
}